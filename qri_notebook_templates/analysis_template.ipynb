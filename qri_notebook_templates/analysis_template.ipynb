{
 "cells": [
  {
   "cell_type": "markdown",
   "metadata": {},
   "source": [
    "# Qri Notebook\n",
    "\n",
    "This notebook is structured to improve workflow when analyzing with Qri datasets"
   ]
  },
  {
   "cell_type": "code",
   "execution_count": 1,
   "metadata": {},
   "outputs": [],
   "source": [
    "import pandas as pd\n",
    "from plotly.subplots import make_subplots\n",
    "import plotly.graph_objects as go\n",
    "import subprocess\n",
    "from io import StringIO\n",
    "import os"
   ]
  },
  {
   "cell_type": "markdown",
   "metadata": {},
   "source": [
    "## Defining the Qri class object\n",
    "This object contains functions for basic Qri tasks such as loading the dataset body in to a Pandas dataframe, and saving & publishing a dataset."
   ]
  },
  {
   "cell_type": "code",
   "execution_count": 2,
   "metadata": {},
   "outputs": [],
   "source": [
    "class Qri():\n",
    "    ## initialize the working dataset\n",
    "    def __init__(self, dataset):\n",
    "        self.dataset = dataset\n",
    "        \n",
    "    ## to get the CSV Body of a dataset\n",
    "    def get_csv(self):\n",
    "        cmd = f'qri get body {self.dataset}'\n",
    "        csv = StringIO(subprocess.check_output(cmd, shell=True).decode(\"utf-8\"))\n",
    "        return pd.read_csv(csv)\n",
    "    \n",
    "    ## to get the JSON Body of a dataset\n",
    "    def get_json(self):\n",
    "        cmd = f'qri get body {self.dataset}'\n",
    "        json = StringIO(subprocess.check_output(cmd, shell=True).decode(\"utf-8\"))\n",
    "        return pd.read_json(json)\n",
    "    \n",
    "    ## save the body of a dataset passing the filename and the working dir (if different from current)\n",
    "    def save_body(self, filepath, wdir=os.getcwd()):\n",
    "        os.chdir(wdir)\n",
    "        return f\"qri save --body {filepath}\";\n",
    "    \n",
    "    ## publish dataset\n",
    "    def publish(self, wdir=os.getcwd()):\n",
    "        os.chdir(wdir)\n",
    "        return f\"qri publish {self.dataset}\""
   ]
  },
  {
   "cell_type": "markdown",
   "metadata": {},
   "source": [
    "### Note:\n",
    "When using the save or publish functions, the returned string needs to be placed in curly brackets preceded by an exclamation point. This is how Jupyter Notebook runs terminal commands.\n",
    "\n",
    "#### Example:"
   ]
  },
  {
   "cell_type": "code",
   "execution_count": null,
   "metadata": {},
   "outputs": [],
   "source": [
    "# !{Qri('dataset_name').publish()}"
   ]
  },
  {
   "cell_type": "markdown",
   "metadata": {},
   "source": [
    "### Loading the data"
   ]
  },
  {
   "cell_type": "markdown",
   "metadata": {},
   "source": [
    "#### 1. COVID-19 cases & deaths in prisons/jails"
   ]
  },
  {
   "cell_type": "code",
   "execution_count": 3,
   "metadata": {},
   "outputs": [
    {
     "data": {
      "text/html": [
       "<div>\n",
       "<style scoped>\n",
       "    .dataframe tbody tr th:only-of-type {\n",
       "        vertical-align: middle;\n",
       "    }\n",
       "\n",
       "    .dataframe tbody tr th {\n",
       "        vertical-align: top;\n",
       "    }\n",
       "\n",
       "    .dataframe thead th {\n",
       "        text-align: right;\n",
       "    }\n",
       "</style>\n",
       "<table border=\"1\" class=\"dataframe\">\n",
       "  <thead>\n",
       "    <tr style=\"text-align: right;\">\n",
       "      <th></th>\n",
       "      <th>Address</th>\n",
       "      <th>Coder</th>\n",
       "      <th>Date</th>\n",
       "      <th>Facility</th>\n",
       "      <th>Name</th>\n",
       "      <th>Notes</th>\n",
       "      <th>Resident.Deaths</th>\n",
       "      <th>Residents.Confirmed</th>\n",
       "      <th>Residents.Recovered</th>\n",
       "      <th>Staff.Confirmed</th>\n",
       "      <th>Staff.Deaths</th>\n",
       "      <th>Staff.Recovered</th>\n",
       "      <th>State</th>\n",
       "      <th>Website</th>\n",
       "    </tr>\n",
       "  </thead>\n",
       "  <tbody>\n",
       "    <tr>\n",
       "      <td>0</td>\n",
       "      <td>NaN</td>\n",
       "      <td>NaN</td>\n",
       "      <td>2020-03-31</td>\n",
       "      <td>Prison</td>\n",
       "      <td>Crossroads ATC</td>\n",
       "      <td>NaN</td>\n",
       "      <td>0</td>\n",
       "      <td>0</td>\n",
       "      <td>0</td>\n",
       "      <td>1</td>\n",
       "      <td>0</td>\n",
       "      <td>0.0</td>\n",
       "      <td>Illinois</td>\n",
       "      <td>https://www2.illinois.gov/idoc/facilities/Page...</td>\n",
       "    </tr>\n",
       "    <tr>\n",
       "      <td>1</td>\n",
       "      <td>NaN</td>\n",
       "      <td>NaN</td>\n",
       "      <td>2020-03-31</td>\n",
       "      <td>Prison</td>\n",
       "      <td>Joliet Treatment Center</td>\n",
       "      <td>NaN</td>\n",
       "      <td>0</td>\n",
       "      <td>0</td>\n",
       "      <td>0</td>\n",
       "      <td>1</td>\n",
       "      <td>0</td>\n",
       "      <td>0.0</td>\n",
       "      <td>Illinois</td>\n",
       "      <td>https://www2.illinois.gov/idoc/facilities/Page...</td>\n",
       "    </tr>\n",
       "    <tr>\n",
       "      <td>2</td>\n",
       "      <td>NaN</td>\n",
       "      <td>NaN</td>\n",
       "      <td>2020-03-31</td>\n",
       "      <td>Prison</td>\n",
       "      <td>Menard</td>\n",
       "      <td>NaN</td>\n",
       "      <td>0</td>\n",
       "      <td>0</td>\n",
       "      <td>0</td>\n",
       "      <td>1</td>\n",
       "      <td>0</td>\n",
       "      <td>0.0</td>\n",
       "      <td>Illinois</td>\n",
       "      <td>https://www2.illinois.gov/idoc/facilities/Page...</td>\n",
       "    </tr>\n",
       "    <tr>\n",
       "      <td>3</td>\n",
       "      <td>NaN</td>\n",
       "      <td>NaN</td>\n",
       "      <td>2020-03-31</td>\n",
       "      <td>Prison</td>\n",
       "      <td>North Lawndale ATC</td>\n",
       "      <td>NaN</td>\n",
       "      <td>0</td>\n",
       "      <td>4</td>\n",
       "      <td>0</td>\n",
       "      <td>1</td>\n",
       "      <td>0</td>\n",
       "      <td>0.0</td>\n",
       "      <td>Illinois</td>\n",
       "      <td>https://www2.illinois.gov/idoc/facilities/Page...</td>\n",
       "    </tr>\n",
       "    <tr>\n",
       "      <td>4</td>\n",
       "      <td>NaN</td>\n",
       "      <td>NaN</td>\n",
       "      <td>2020-03-31</td>\n",
       "      <td>Prison</td>\n",
       "      <td>Sheridan</td>\n",
       "      <td>NaN</td>\n",
       "      <td>0</td>\n",
       "      <td>0</td>\n",
       "      <td>0</td>\n",
       "      <td>1</td>\n",
       "      <td>0</td>\n",
       "      <td>0.0</td>\n",
       "      <td>Illinois</td>\n",
       "      <td>https://www2.illinois.gov/idoc/facilities/Page...</td>\n",
       "    </tr>\n",
       "  </tbody>\n",
       "</table>\n",
       "</div>"
      ],
      "text/plain": [
       "  Address Coder        Date Facility                     Name Notes  \\\n",
       "0     NaN   NaN  2020-03-31   Prison           Crossroads ATC   NaN   \n",
       "1     NaN   NaN  2020-03-31   Prison  Joliet Treatment Center   NaN   \n",
       "2     NaN   NaN  2020-03-31   Prison                   Menard   NaN   \n",
       "3     NaN   NaN  2020-03-31   Prison      North Lawndale ATC    NaN   \n",
       "4     NaN   NaN  2020-03-31   Prison                 Sheridan   NaN   \n",
       "\n",
       "   Resident.Deaths  Residents.Confirmed  Residents.Recovered  Staff.Confirmed  \\\n",
       "0                0                    0                    0                1   \n",
       "1                0                    0                    0                1   \n",
       "2                0                    0                    0                1   \n",
       "3                0                    4                    0                1   \n",
       "4                0                    0                    0                1   \n",
       "\n",
       "   Staff.Deaths  Staff.Recovered     State  \\\n",
       "0             0              0.0  Illinois   \n",
       "1             0              0.0  Illinois   \n",
       "2             0              0.0  Illinois   \n",
       "3             0              0.0  Illinois   \n",
       "4             0              0.0  Illinois   \n",
       "\n",
       "                                             Website  \n",
       "0  https://www2.illinois.gov/idoc/facilities/Page...  \n",
       "1  https://www2.illinois.gov/idoc/facilities/Page...  \n",
       "2  https://www2.illinois.gov/idoc/facilities/Page...  \n",
       "3  https://www2.illinois.gov/idoc/facilities/Page...  \n",
       "4  https://www2.illinois.gov/idoc/facilities/Page...  "
      ]
     },
     "execution_count": 3,
     "metadata": {},
     "output_type": "execute_result"
    }
   ],
   "source": [
    "covid19_df = Qri('xristosk/ucla_law_covid_prison_history').get_csv()\n",
    "covid19_df.head()"
   ]
  },
  {
   "cell_type": "markdown",
   "metadata": {},
   "source": [
    "#### 2. Daily number of people taken into NYPD custody"
   ]
  },
  {
   "cell_type": "code",
   "execution_count": 4,
   "metadata": {
    "scrolled": true
   },
   "outputs": [
    {
     "data": {
      "text/html": [
       "<div>\n",
       "<style scoped>\n",
       "    .dataframe tbody tr th:only-of-type {\n",
       "        vertical-align: middle;\n",
       "    }\n",
       "\n",
       "    .dataframe tbody tr th {\n",
       "        vertical-align: top;\n",
       "    }\n",
       "\n",
       "    .dataframe thead th {\n",
       "        text-align: right;\n",
       "    }\n",
       "</style>\n",
       "<table border=\"1\" class=\"dataframe\">\n",
       "  <thead>\n",
       "    <tr style=\"text-align: right;\">\n",
       "      <th></th>\n",
       "      <th>inmateid</th>\n",
       "      <th>admitted_dt</th>\n",
       "      <th>discharged_dt</th>\n",
       "      <th>custody_level</th>\n",
       "      <th>bradh</th>\n",
       "      <th>race</th>\n",
       "      <th>gender</th>\n",
       "      <th>age</th>\n",
       "      <th>inmate_status_code</th>\n",
       "      <th>sealed</th>\n",
       "      <th>srg_flg</th>\n",
       "      <th>top_charge</th>\n",
       "      <th>infraction</th>\n",
       "    </tr>\n",
       "  </thead>\n",
       "  <tbody>\n",
       "    <tr>\n",
       "      <td>0</td>\n",
       "      <td>20007480</td>\n",
       "      <td>06/16/2020 01:18:01 AM</td>\n",
       "      <td>NaN</td>\n",
       "      <td>MIN</td>\n",
       "      <td>N</td>\n",
       "      <td>B</td>\n",
       "      <td>M</td>\n",
       "      <td>56.0</td>\n",
       "      <td>DE</td>\n",
       "      <td>N</td>\n",
       "      <td>N</td>\n",
       "      <td>121.12</td>\n",
       "      <td>N</td>\n",
       "    </tr>\n",
       "    <tr>\n",
       "      <td>1</td>\n",
       "      <td>58413</td>\n",
       "      <td>06/23/2020 11:37:27 PM</td>\n",
       "      <td>NaN</td>\n",
       "      <td>MAX</td>\n",
       "      <td>N</td>\n",
       "      <td>B</td>\n",
       "      <td>M</td>\n",
       "      <td>39.0</td>\n",
       "      <td>DE</td>\n",
       "      <td>N</td>\n",
       "      <td>Y</td>\n",
       "      <td>160.1</td>\n",
       "      <td>N</td>\n",
       "    </tr>\n",
       "    <tr>\n",
       "      <td>2</td>\n",
       "      <td>20208697</td>\n",
       "      <td>05/01/2020 03:27:47 PM</td>\n",
       "      <td>NaN</td>\n",
       "      <td>MIN</td>\n",
       "      <td>Y</td>\n",
       "      <td>B</td>\n",
       "      <td>M</td>\n",
       "      <td>43.0</td>\n",
       "      <td>DE</td>\n",
       "      <td>N</td>\n",
       "      <td>N</td>\n",
       "      <td>155.3</td>\n",
       "      <td>Y</td>\n",
       "    </tr>\n",
       "    <tr>\n",
       "      <td>3</td>\n",
       "      <td>20067507</td>\n",
       "      <td>02/11/2019 06:26:30 PM</td>\n",
       "      <td>NaN</td>\n",
       "      <td>MED</td>\n",
       "      <td>N</td>\n",
       "      <td>B</td>\n",
       "      <td>M</td>\n",
       "      <td>55.0</td>\n",
       "      <td>DE</td>\n",
       "      <td>N</td>\n",
       "      <td>N</td>\n",
       "      <td>125.25</td>\n",
       "      <td>Y</td>\n",
       "    </tr>\n",
       "    <tr>\n",
       "      <td>4</td>\n",
       "      <td>20210238</td>\n",
       "      <td>06/05/2020 05:17:54 PM</td>\n",
       "      <td>NaN</td>\n",
       "      <td>MED</td>\n",
       "      <td>N</td>\n",
       "      <td>B</td>\n",
       "      <td>M</td>\n",
       "      <td>53.0</td>\n",
       "      <td>DEP</td>\n",
       "      <td>N</td>\n",
       "      <td>N</td>\n",
       "      <td>160.1</td>\n",
       "      <td>N</td>\n",
       "    </tr>\n",
       "  </tbody>\n",
       "</table>\n",
       "</div>"
      ],
      "text/plain": [
       "   inmateid             admitted_dt  discharged_dt custody_level bradh race  \\\n",
       "0  20007480  06/16/2020 01:18:01 AM            NaN           MIN     N    B   \n",
       "1     58413  06/23/2020 11:37:27 PM            NaN           MAX     N    B   \n",
       "2  20208697  05/01/2020 03:27:47 PM            NaN           MIN     Y    B   \n",
       "3  20067507  02/11/2019 06:26:30 PM            NaN           MED     N    B   \n",
       "4  20210238  06/05/2020 05:17:54 PM            NaN           MED     N    B   \n",
       "\n",
       "  gender   age inmate_status_code sealed srg_flg top_charge infraction  \n",
       "0      M  56.0                 DE      N       N     121.12          N  \n",
       "1      M  39.0                 DE      N       Y      160.1          N  \n",
       "2      M  43.0                 DE      N       N      155.3          Y  \n",
       "3      M  55.0                 DE      N       N     125.25          Y  \n",
       "4      M  53.0                DEP      N       N      160.1          N  "
      ]
     },
     "execution_count": 4,
     "metadata": {},
     "output_type": "execute_result"
    }
   ],
   "source": [
    "inmates_df = Qri('xristosk/nyc_daily_inmates_in_custody').get_csv()\n",
    "inmates_df.head()"
   ]
  },
  {
   "cell_type": "markdown",
   "metadata": {},
   "source": [
    "## Data Processing"
   ]
  },
  {
   "cell_type": "markdown",
   "metadata": {},
   "source": [
    "#### a. Daily inmates"
   ]
  },
  {
   "cell_type": "code",
   "execution_count": 5,
   "metadata": {},
   "outputs": [],
   "source": [
    "## changing the date datatype from string to datetime & setting it as index\n",
    "inmates_df['admitted_dt'] = pd.to_datetime(inmates_df['admitted_dt'])\n",
    "inmates_df.set_index('admitted_dt',inplace=True)"
   ]
  },
  {
   "cell_type": "code",
   "execution_count": 6,
   "metadata": {},
   "outputs": [],
   "source": [
    "## sum of inmates admitted daily & yet to be released between April and June 13th\n",
    "inmates_sum = inmates_df['2020-04':'2020-06-13'].resample('D').count().cumsum()"
   ]
  },
  {
   "cell_type": "code",
   "execution_count": 7,
   "metadata": {},
   "outputs": [
    {
     "data": {
      "text/html": [
       "<div>\n",
       "<style scoped>\n",
       "    .dataframe tbody tr th:only-of-type {\n",
       "        vertical-align: middle;\n",
       "    }\n",
       "\n",
       "    .dataframe tbody tr th {\n",
       "        vertical-align: top;\n",
       "    }\n",
       "\n",
       "    .dataframe thead th {\n",
       "        text-align: right;\n",
       "    }\n",
       "</style>\n",
       "<table border=\"1\" class=\"dataframe\">\n",
       "  <thead>\n",
       "    <tr style=\"text-align: right;\">\n",
       "      <th></th>\n",
       "      <th>inmateid</th>\n",
       "      <th>discharged_dt</th>\n",
       "      <th>custody_level</th>\n",
       "      <th>bradh</th>\n",
       "      <th>race</th>\n",
       "      <th>gender</th>\n",
       "      <th>age</th>\n",
       "      <th>inmate_status_code</th>\n",
       "      <th>sealed</th>\n",
       "      <th>srg_flg</th>\n",
       "      <th>top_charge</th>\n",
       "      <th>infraction</th>\n",
       "    </tr>\n",
       "    <tr>\n",
       "      <th>admitted_dt</th>\n",
       "      <th></th>\n",
       "      <th></th>\n",
       "      <th></th>\n",
       "      <th></th>\n",
       "      <th></th>\n",
       "      <th></th>\n",
       "      <th></th>\n",
       "      <th></th>\n",
       "      <th></th>\n",
       "      <th></th>\n",
       "      <th></th>\n",
       "      <th></th>\n",
       "    </tr>\n",
       "  </thead>\n",
       "  <tbody>\n",
       "    <tr>\n",
       "      <td>2020-06-09</td>\n",
       "      <td>885</td>\n",
       "      <td>0</td>\n",
       "      <td>881</td>\n",
       "      <td>885</td>\n",
       "      <td>884</td>\n",
       "      <td>884</td>\n",
       "      <td>884</td>\n",
       "      <td>885</td>\n",
       "      <td>885</td>\n",
       "      <td>885</td>\n",
       "      <td>785</td>\n",
       "      <td>885</td>\n",
       "    </tr>\n",
       "    <tr>\n",
       "      <td>2020-06-10</td>\n",
       "      <td>907</td>\n",
       "      <td>0</td>\n",
       "      <td>903</td>\n",
       "      <td>907</td>\n",
       "      <td>906</td>\n",
       "      <td>906</td>\n",
       "      <td>906</td>\n",
       "      <td>907</td>\n",
       "      <td>907</td>\n",
       "      <td>907</td>\n",
       "      <td>805</td>\n",
       "      <td>907</td>\n",
       "    </tr>\n",
       "    <tr>\n",
       "      <td>2020-06-11</td>\n",
       "      <td>928</td>\n",
       "      <td>0</td>\n",
       "      <td>924</td>\n",
       "      <td>928</td>\n",
       "      <td>927</td>\n",
       "      <td>927</td>\n",
       "      <td>927</td>\n",
       "      <td>928</td>\n",
       "      <td>928</td>\n",
       "      <td>928</td>\n",
       "      <td>823</td>\n",
       "      <td>928</td>\n",
       "    </tr>\n",
       "    <tr>\n",
       "      <td>2020-06-12</td>\n",
       "      <td>942</td>\n",
       "      <td>0</td>\n",
       "      <td>938</td>\n",
       "      <td>942</td>\n",
       "      <td>941</td>\n",
       "      <td>941</td>\n",
       "      <td>941</td>\n",
       "      <td>942</td>\n",
       "      <td>942</td>\n",
       "      <td>942</td>\n",
       "      <td>835</td>\n",
       "      <td>942</td>\n",
       "    </tr>\n",
       "    <tr>\n",
       "      <td>2020-06-13</td>\n",
       "      <td>959</td>\n",
       "      <td>0</td>\n",
       "      <td>953</td>\n",
       "      <td>959</td>\n",
       "      <td>958</td>\n",
       "      <td>958</td>\n",
       "      <td>958</td>\n",
       "      <td>959</td>\n",
       "      <td>959</td>\n",
       "      <td>959</td>\n",
       "      <td>850</td>\n",
       "      <td>959</td>\n",
       "    </tr>\n",
       "  </tbody>\n",
       "</table>\n",
       "</div>"
      ],
      "text/plain": [
       "             inmateid  discharged_dt  custody_level  bradh  race  gender  age  \\\n",
       "admitted_dt                                                                     \n",
       "2020-06-09        885              0            881    885   884     884  884   \n",
       "2020-06-10        907              0            903    907   906     906  906   \n",
       "2020-06-11        928              0            924    928   927     927  927   \n",
       "2020-06-12        942              0            938    942   941     941  941   \n",
       "2020-06-13        959              0            953    959   958     958  958   \n",
       "\n",
       "             inmate_status_code  sealed  srg_flg  top_charge  infraction  \n",
       "admitted_dt                                                               \n",
       "2020-06-09                  885     885      885         785         885  \n",
       "2020-06-10                  907     907      907         805         907  \n",
       "2020-06-11                  928     928      928         823         928  \n",
       "2020-06-12                  942     942      942         835         942  \n",
       "2020-06-13                  959     959      959         850         959  "
      ]
     },
     "execution_count": 7,
     "metadata": {},
     "output_type": "execute_result"
    }
   ],
   "source": [
    "inmates_sum.tail()"
   ]
  },
  {
   "cell_type": "markdown",
   "metadata": {},
   "source": [
    "#### b. COVID-19 in jails"
   ]
  },
  {
   "cell_type": "code",
   "execution_count": 8,
   "metadata": {},
   "outputs": [
    {
     "data": {
      "text/plain": [
       "Index(['Address', 'Coder', 'Date', 'Facility', 'Name', 'Notes',\n",
       "       'Resident.Deaths', 'Residents.Confirmed', 'Residents.Recovered',\n",
       "       'Staff.Confirmed', 'Staff.Deaths', 'Staff.Recovered', 'State',\n",
       "       'Website'],\n",
       "      dtype='object')"
      ]
     },
     "execution_count": 8,
     "metadata": {},
     "output_type": "execute_result"
    }
   ],
   "source": [
    "covid19_df.columns"
   ]
  },
  {
   "cell_type": "code",
   "execution_count": 9,
   "metadata": {},
   "outputs": [],
   "source": [
    "covid19_df['Date'] = pd.to_datetime(covid19_df['Date'])\n",
    "covid19_df.set_index('Date',inplace=True)"
   ]
  },
  {
   "cell_type": "code",
   "execution_count": 10,
   "metadata": {},
   "outputs": [],
   "source": [
    "## setting the df to only NYC jails\n",
    "covid19_df = covid19_df[covid19_df['Name']=='New York City Jails']"
   ]
  },
  {
   "cell_type": "code",
   "execution_count": 11,
   "metadata": {},
   "outputs": [
    {
     "data": {
      "text/html": [
       "<div>\n",
       "<style scoped>\n",
       "    .dataframe tbody tr th:only-of-type {\n",
       "        vertical-align: middle;\n",
       "    }\n",
       "\n",
       "    .dataframe tbody tr th {\n",
       "        vertical-align: top;\n",
       "    }\n",
       "\n",
       "    .dataframe thead th {\n",
       "        text-align: right;\n",
       "    }\n",
       "</style>\n",
       "<table border=\"1\" class=\"dataframe\">\n",
       "  <thead>\n",
       "    <tr style=\"text-align: right;\">\n",
       "      <th></th>\n",
       "      <th>Address</th>\n",
       "      <th>Coder</th>\n",
       "      <th>Facility</th>\n",
       "      <th>Name</th>\n",
       "      <th>Notes</th>\n",
       "      <th>Resident.Deaths</th>\n",
       "      <th>Residents.Confirmed</th>\n",
       "      <th>Residents.Recovered</th>\n",
       "      <th>Staff.Confirmed</th>\n",
       "      <th>Staff.Deaths</th>\n",
       "      <th>Staff.Recovered</th>\n",
       "      <th>State</th>\n",
       "      <th>Website</th>\n",
       "    </tr>\n",
       "    <tr>\n",
       "      <th>Date</th>\n",
       "      <th></th>\n",
       "      <th></th>\n",
       "      <th></th>\n",
       "      <th></th>\n",
       "      <th></th>\n",
       "      <th></th>\n",
       "      <th></th>\n",
       "      <th></th>\n",
       "      <th></th>\n",
       "      <th></th>\n",
       "      <th></th>\n",
       "      <th></th>\n",
       "      <th></th>\n",
       "    </tr>\n",
       "  </thead>\n",
       "  <tbody>\n",
       "    <tr>\n",
       "      <td>2020-06-10</td>\n",
       "      <td>NaN</td>\n",
       "      <td>GD</td>\n",
       "      <td>Jail</td>\n",
       "      <td>New York City Jails</td>\n",
       "      <td>(6/8/20) NY Board of Corrections is now postin...</td>\n",
       "      <td>3</td>\n",
       "      <td>340</td>\n",
       "      <td>0</td>\n",
       "      <td>1408</td>\n",
       "      <td>9</td>\n",
       "      <td>0.0</td>\n",
       "      <td>New York</td>\n",
       "      <td>https://www1.nyc.gov/site/boc/covid-19.page</td>\n",
       "    </tr>\n",
       "    <tr>\n",
       "      <td>2020-06-11</td>\n",
       "      <td>NaN</td>\n",
       "      <td>KP</td>\n",
       "      <td>Jail</td>\n",
       "      <td>New York City Jails</td>\n",
       "      <td>(6/8/20) NY Board of Corrections is now postin...</td>\n",
       "      <td>3</td>\n",
       "      <td>340</td>\n",
       "      <td>0</td>\n",
       "      <td>1408</td>\n",
       "      <td>9</td>\n",
       "      <td>0.0</td>\n",
       "      <td>New York</td>\n",
       "      <td>https://www1.nyc.gov/site/boc/covid-19.page</td>\n",
       "    </tr>\n",
       "    <tr>\n",
       "      <td>2020-06-12</td>\n",
       "      <td>NaN</td>\n",
       "      <td>GD</td>\n",
       "      <td>Jail</td>\n",
       "      <td>New York City Jails</td>\n",
       "      <td>(6/8/20) NY Board of Corrections is now postin...</td>\n",
       "      <td>3</td>\n",
       "      <td>340</td>\n",
       "      <td>0</td>\n",
       "      <td>1408</td>\n",
       "      <td>9</td>\n",
       "      <td>0.0</td>\n",
       "      <td>New York</td>\n",
       "      <td>https://www1.nyc.gov/site/boc/covid-19.page</td>\n",
       "    </tr>\n",
       "    <tr>\n",
       "      <td>2020-06-13</td>\n",
       "      <td>NaN</td>\n",
       "      <td>GD</td>\n",
       "      <td>Jail</td>\n",
       "      <td>New York City Jails</td>\n",
       "      <td>(6/8/20) NY Board of Corrections is now postin...</td>\n",
       "      <td>3</td>\n",
       "      <td>340</td>\n",
       "      <td>0</td>\n",
       "      <td>1408</td>\n",
       "      <td>9</td>\n",
       "      <td>0.0</td>\n",
       "      <td>New York</td>\n",
       "      <td>https://www1.nyc.gov/site/boc/covid-19.page</td>\n",
       "    </tr>\n",
       "    <tr>\n",
       "      <td>2020-06-15</td>\n",
       "      <td>NaN</td>\n",
       "      <td>KP</td>\n",
       "      <td>Jail</td>\n",
       "      <td>New York City Jails</td>\n",
       "      <td>(6/8/20) NY Board of Corrections is now postin...</td>\n",
       "      <td>3</td>\n",
       "      <td>340</td>\n",
       "      <td>0</td>\n",
       "      <td>1408</td>\n",
       "      <td>9</td>\n",
       "      <td>0.0</td>\n",
       "      <td>New York</td>\n",
       "      <td>https://www1.nyc.gov/site/boc/covid-19.page</td>\n",
       "    </tr>\n",
       "  </tbody>\n",
       "</table>\n",
       "</div>"
      ],
      "text/plain": [
       "           Address Coder Facility                 Name  \\\n",
       "Date                                                     \n",
       "2020-06-10     NaN    GD     Jail  New York City Jails   \n",
       "2020-06-11     NaN    KP     Jail  New York City Jails   \n",
       "2020-06-12     NaN    GD     Jail  New York City Jails   \n",
       "2020-06-13     NaN    GD     Jail  New York City Jails   \n",
       "2020-06-15     NaN    KP     Jail  New York City Jails   \n",
       "\n",
       "                                                        Notes  \\\n",
       "Date                                                            \n",
       "2020-06-10  (6/8/20) NY Board of Corrections is now postin...   \n",
       "2020-06-11  (6/8/20) NY Board of Corrections is now postin...   \n",
       "2020-06-12  (6/8/20) NY Board of Corrections is now postin...   \n",
       "2020-06-13  (6/8/20) NY Board of Corrections is now postin...   \n",
       "2020-06-15  (6/8/20) NY Board of Corrections is now postin...   \n",
       "\n",
       "            Resident.Deaths  Residents.Confirmed  Residents.Recovered  \\\n",
       "Date                                                                    \n",
       "2020-06-10                3                  340                    0   \n",
       "2020-06-11                3                  340                    0   \n",
       "2020-06-12                3                  340                    0   \n",
       "2020-06-13                3                  340                    0   \n",
       "2020-06-15                3                  340                    0   \n",
       "\n",
       "            Staff.Confirmed  Staff.Deaths  Staff.Recovered     State  \\\n",
       "Date                                                                   \n",
       "2020-06-10             1408             9              0.0  New York   \n",
       "2020-06-11             1408             9              0.0  New York   \n",
       "2020-06-12             1408             9              0.0  New York   \n",
       "2020-06-13             1408             9              0.0  New York   \n",
       "2020-06-15             1408             9              0.0  New York   \n",
       "\n",
       "                                                Website  \n",
       "Date                                                     \n",
       "2020-06-10  https://www1.nyc.gov/site/boc/covid-19.page  \n",
       "2020-06-11  https://www1.nyc.gov/site/boc/covid-19.page  \n",
       "2020-06-12  https://www1.nyc.gov/site/boc/covid-19.page  \n",
       "2020-06-13  https://www1.nyc.gov/site/boc/covid-19.page  \n",
       "2020-06-15  https://www1.nyc.gov/site/boc/covid-19.page  "
      ]
     },
     "execution_count": 11,
     "metadata": {},
     "output_type": "execute_result"
    }
   ],
   "source": [
    "covid19_df.tail()"
   ]
  },
  {
   "cell_type": "code",
   "execution_count": 12,
   "metadata": {},
   "outputs": [],
   "source": [
    "covid19_sum = pd.DataFrame(covid19_df['2020-04':'2020-06-13'])"
   ]
  },
  {
   "cell_type": "code",
   "execution_count": 13,
   "metadata": {},
   "outputs": [
    {
     "data": {
      "text/html": [
       "<div>\n",
       "<style scoped>\n",
       "    .dataframe tbody tr th:only-of-type {\n",
       "        vertical-align: middle;\n",
       "    }\n",
       "\n",
       "    .dataframe tbody tr th {\n",
       "        vertical-align: top;\n",
       "    }\n",
       "\n",
       "    .dataframe thead th {\n",
       "        text-align: right;\n",
       "    }\n",
       "</style>\n",
       "<table border=\"1\" class=\"dataframe\">\n",
       "  <thead>\n",
       "    <tr style=\"text-align: right;\">\n",
       "      <th></th>\n",
       "      <th>Address</th>\n",
       "      <th>Coder</th>\n",
       "      <th>Facility</th>\n",
       "      <th>Name</th>\n",
       "      <th>Notes</th>\n",
       "      <th>Resident.Deaths</th>\n",
       "      <th>Residents.Confirmed</th>\n",
       "      <th>Residents.Recovered</th>\n",
       "      <th>Staff.Confirmed</th>\n",
       "      <th>Staff.Deaths</th>\n",
       "      <th>Staff.Recovered</th>\n",
       "      <th>State</th>\n",
       "      <th>Website</th>\n",
       "      <th>total.confirmed</th>\n",
       "    </tr>\n",
       "    <tr>\n",
       "      <th>Date</th>\n",
       "      <th></th>\n",
       "      <th></th>\n",
       "      <th></th>\n",
       "      <th></th>\n",
       "      <th></th>\n",
       "      <th></th>\n",
       "      <th></th>\n",
       "      <th></th>\n",
       "      <th></th>\n",
       "      <th></th>\n",
       "      <th></th>\n",
       "      <th></th>\n",
       "      <th></th>\n",
       "      <th></th>\n",
       "    </tr>\n",
       "  </thead>\n",
       "  <tbody>\n",
       "    <tr>\n",
       "      <td>2020-06-09</td>\n",
       "      <td>NaN</td>\n",
       "      <td>KP</td>\n",
       "      <td>Jail</td>\n",
       "      <td>New York City Jails</td>\n",
       "      <td>(6/8/20) NY Board of Corrections is now postin...</td>\n",
       "      <td>3</td>\n",
       "      <td>340</td>\n",
       "      <td>0</td>\n",
       "      <td>1408</td>\n",
       "      <td>9</td>\n",
       "      <td>0.0</td>\n",
       "      <td>New York</td>\n",
       "      <td>https://www1.nyc.gov/site/boc/covid-19.page</td>\n",
       "      <td>1748</td>\n",
       "    </tr>\n",
       "    <tr>\n",
       "      <td>2020-06-10</td>\n",
       "      <td>NaN</td>\n",
       "      <td>GD</td>\n",
       "      <td>Jail</td>\n",
       "      <td>New York City Jails</td>\n",
       "      <td>(6/8/20) NY Board of Corrections is now postin...</td>\n",
       "      <td>3</td>\n",
       "      <td>340</td>\n",
       "      <td>0</td>\n",
       "      <td>1408</td>\n",
       "      <td>9</td>\n",
       "      <td>0.0</td>\n",
       "      <td>New York</td>\n",
       "      <td>https://www1.nyc.gov/site/boc/covid-19.page</td>\n",
       "      <td>1748</td>\n",
       "    </tr>\n",
       "    <tr>\n",
       "      <td>2020-06-11</td>\n",
       "      <td>NaN</td>\n",
       "      <td>KP</td>\n",
       "      <td>Jail</td>\n",
       "      <td>New York City Jails</td>\n",
       "      <td>(6/8/20) NY Board of Corrections is now postin...</td>\n",
       "      <td>3</td>\n",
       "      <td>340</td>\n",
       "      <td>0</td>\n",
       "      <td>1408</td>\n",
       "      <td>9</td>\n",
       "      <td>0.0</td>\n",
       "      <td>New York</td>\n",
       "      <td>https://www1.nyc.gov/site/boc/covid-19.page</td>\n",
       "      <td>1748</td>\n",
       "    </tr>\n",
       "    <tr>\n",
       "      <td>2020-06-12</td>\n",
       "      <td>NaN</td>\n",
       "      <td>GD</td>\n",
       "      <td>Jail</td>\n",
       "      <td>New York City Jails</td>\n",
       "      <td>(6/8/20) NY Board of Corrections is now postin...</td>\n",
       "      <td>3</td>\n",
       "      <td>340</td>\n",
       "      <td>0</td>\n",
       "      <td>1408</td>\n",
       "      <td>9</td>\n",
       "      <td>0.0</td>\n",
       "      <td>New York</td>\n",
       "      <td>https://www1.nyc.gov/site/boc/covid-19.page</td>\n",
       "      <td>1748</td>\n",
       "    </tr>\n",
       "    <tr>\n",
       "      <td>2020-06-13</td>\n",
       "      <td>NaN</td>\n",
       "      <td>GD</td>\n",
       "      <td>Jail</td>\n",
       "      <td>New York City Jails</td>\n",
       "      <td>(6/8/20) NY Board of Corrections is now postin...</td>\n",
       "      <td>3</td>\n",
       "      <td>340</td>\n",
       "      <td>0</td>\n",
       "      <td>1408</td>\n",
       "      <td>9</td>\n",
       "      <td>0.0</td>\n",
       "      <td>New York</td>\n",
       "      <td>https://www1.nyc.gov/site/boc/covid-19.page</td>\n",
       "      <td>1748</td>\n",
       "    </tr>\n",
       "  </tbody>\n",
       "</table>\n",
       "</div>"
      ],
      "text/plain": [
       "           Address Coder Facility                 Name  \\\n",
       "Date                                                     \n",
       "2020-06-09     NaN    KP     Jail  New York City Jails   \n",
       "2020-06-10     NaN    GD     Jail  New York City Jails   \n",
       "2020-06-11     NaN    KP     Jail  New York City Jails   \n",
       "2020-06-12     NaN    GD     Jail  New York City Jails   \n",
       "2020-06-13     NaN    GD     Jail  New York City Jails   \n",
       "\n",
       "                                                        Notes  \\\n",
       "Date                                                            \n",
       "2020-06-09  (6/8/20) NY Board of Corrections is now postin...   \n",
       "2020-06-10  (6/8/20) NY Board of Corrections is now postin...   \n",
       "2020-06-11  (6/8/20) NY Board of Corrections is now postin...   \n",
       "2020-06-12  (6/8/20) NY Board of Corrections is now postin...   \n",
       "2020-06-13  (6/8/20) NY Board of Corrections is now postin...   \n",
       "\n",
       "            Resident.Deaths  Residents.Confirmed  Residents.Recovered  \\\n",
       "Date                                                                    \n",
       "2020-06-09                3                  340                    0   \n",
       "2020-06-10                3                  340                    0   \n",
       "2020-06-11                3                  340                    0   \n",
       "2020-06-12                3                  340                    0   \n",
       "2020-06-13                3                  340                    0   \n",
       "\n",
       "            Staff.Confirmed  Staff.Deaths  Staff.Recovered     State  \\\n",
       "Date                                                                   \n",
       "2020-06-09             1408             9              0.0  New York   \n",
       "2020-06-10             1408             9              0.0  New York   \n",
       "2020-06-11             1408             9              0.0  New York   \n",
       "2020-06-12             1408             9              0.0  New York   \n",
       "2020-06-13             1408             9              0.0  New York   \n",
       "\n",
       "                                                Website  total.confirmed  \n",
       "Date                                                                      \n",
       "2020-06-09  https://www1.nyc.gov/site/boc/covid-19.page             1748  \n",
       "2020-06-10  https://www1.nyc.gov/site/boc/covid-19.page             1748  \n",
       "2020-06-11  https://www1.nyc.gov/site/boc/covid-19.page             1748  \n",
       "2020-06-12  https://www1.nyc.gov/site/boc/covid-19.page             1748  \n",
       "2020-06-13  https://www1.nyc.gov/site/boc/covid-19.page             1748  "
      ]
     },
     "execution_count": 13,
     "metadata": {},
     "output_type": "execute_result"
    }
   ],
   "source": [
    "## creating a new column for total confirmed cases between residents and staff\n",
    "covid19_sum['total.confirmed'] = covid19_sum['Residents.Confirmed'] + covid19_sum['Staff.Confirmed']\n",
    "covid19_sum.tail()"
   ]
  },
  {
   "cell_type": "markdown",
   "metadata": {},
   "source": [
    "### Visuals"
   ]
  },
  {
   "cell_type": "code",
   "execution_count": 17,
   "metadata": {},
   "outputs": [
    {
     "data": {
      "application/vnd.plotly.v1+json": {
       "config": {
        "plotlyServerURL": "https://plot.ly"
       },
       "data": [
        {
         "line": {
          "color": "peru",
          "width": 3
         },
         "name": "Inmates in Custody",
         "type": "scatter",
         "x": [
          "2020-04-01T00:00:00",
          "2020-04-02T00:00:00",
          "2020-04-03T00:00:00",
          "2020-04-04T00:00:00",
          "2020-04-05T00:00:00",
          "2020-04-06T00:00:00",
          "2020-04-07T00:00:00",
          "2020-04-08T00:00:00",
          "2020-04-09T00:00:00",
          "2020-04-10T00:00:00",
          "2020-04-11T00:00:00",
          "2020-04-12T00:00:00",
          "2020-04-13T00:00:00",
          "2020-04-14T00:00:00",
          "2020-04-15T00:00:00",
          "2020-04-16T00:00:00",
          "2020-04-17T00:00:00",
          "2020-04-18T00:00:00",
          "2020-04-19T00:00:00",
          "2020-04-20T00:00:00",
          "2020-04-21T00:00:00",
          "2020-04-22T00:00:00",
          "2020-04-23T00:00:00",
          "2020-04-24T00:00:00",
          "2020-04-25T00:00:00",
          "2020-04-26T00:00:00",
          "2020-04-27T00:00:00",
          "2020-04-28T00:00:00",
          "2020-04-29T00:00:00",
          "2020-04-30T00:00:00",
          "2020-05-01T00:00:00",
          "2020-05-02T00:00:00",
          "2020-05-03T00:00:00",
          "2020-05-04T00:00:00",
          "2020-05-05T00:00:00",
          "2020-05-06T00:00:00",
          "2020-05-07T00:00:00",
          "2020-05-08T00:00:00",
          "2020-05-09T00:00:00",
          "2020-05-10T00:00:00",
          "2020-05-11T00:00:00",
          "2020-05-12T00:00:00",
          "2020-05-13T00:00:00",
          "2020-05-14T00:00:00",
          "2020-05-15T00:00:00",
          "2020-05-16T00:00:00",
          "2020-05-17T00:00:00",
          "2020-05-18T00:00:00",
          "2020-05-19T00:00:00",
          "2020-05-20T00:00:00",
          "2020-05-21T00:00:00",
          "2020-05-22T00:00:00",
          "2020-05-23T00:00:00",
          "2020-05-24T00:00:00",
          "2020-05-25T00:00:00",
          "2020-05-26T00:00:00",
          "2020-05-27T00:00:00",
          "2020-05-28T00:00:00",
          "2020-05-29T00:00:00",
          "2020-05-30T00:00:00",
          "2020-05-31T00:00:00",
          "2020-06-01T00:00:00",
          "2020-06-02T00:00:00",
          "2020-06-03T00:00:00",
          "2020-06-04T00:00:00",
          "2020-06-05T00:00:00",
          "2020-06-06T00:00:00",
          "2020-06-07T00:00:00",
          "2020-06-08T00:00:00",
          "2020-06-09T00:00:00",
          "2020-06-10T00:00:00",
          "2020-06-11T00:00:00",
          "2020-06-12T00:00:00",
          "2020-06-13T00:00:00"
         ],
         "y": [
          10,
          13,
          22,
          23,
          28,
          33,
          37,
          46,
          51,
          56,
          64,
          71,
          71,
          77,
          85,
          94,
          103,
          111,
          115,
          119,
          127,
          136,
          156,
          169,
          176,
          185,
          192,
          204,
          221,
          237,
          269,
          282,
          290,
          298,
          319,
          340,
          351,
          369,
          378,
          383,
          395,
          421,
          445,
          470,
          487,
          511,
          522,
          541,
          562,
          580,
          610,
          634,
          649,
          657,
          665,
          674,
          691,
          716,
          731,
          745,
          761,
          772,
          782,
          796,
          821,
          844,
          852,
          865,
          872,
          885,
          907,
          928,
          942,
          959
         ]
        },
        {
         "line": {
          "color": "navy",
          "dash": "dashdot",
          "width": 3
         },
         "name": "Confirmed Cases",
         "type": "scatter",
         "x": [
          "2020-04-07T00:00:00",
          "2020-04-08T00:00:00",
          "2020-04-09T00:00:00",
          "2020-04-10T00:00:00",
          "2020-04-11T00:00:00",
          "2020-04-12T00:00:00",
          "2020-04-13T00:00:00",
          "2020-04-14T00:00:00",
          "2020-04-15T00:00:00",
          "2020-04-16T00:00:00",
          "2020-04-17T00:00:00",
          "2020-04-18T00:00:00",
          "2020-04-19T00:00:00",
          "2020-04-20T00:00:00",
          "2020-04-21T00:00:00",
          "2020-04-22T00:00:00",
          "2020-04-23T00:00:00",
          "2020-04-24T00:00:00",
          "2020-04-25T00:00:00",
          "2020-04-26T00:00:00",
          "2020-04-27T00:00:00",
          "2020-04-28T00:00:00",
          "2020-04-29T00:00:00",
          "2020-04-30T00:00:00",
          "2020-05-01T00:00:00",
          "2020-05-02T00:00:00",
          "2020-05-03T00:00:00",
          "2020-05-04T00:00:00",
          "2020-05-05T00:00:00",
          "2020-05-06T00:00:00",
          "2020-05-07T00:00:00",
          "2020-05-08T00:00:00",
          "2020-05-09T00:00:00",
          "2020-05-10T00:00:00",
          "2020-05-11T00:00:00",
          "2020-05-12T00:00:00",
          "2020-05-13T00:00:00",
          "2020-05-14T00:00:00",
          "2020-05-15T00:00:00",
          "2020-05-16T00:00:00",
          "2020-05-17T00:00:00",
          "2020-05-18T00:00:00",
          "2020-05-19T00:00:00",
          "2020-05-20T00:00:00",
          "2020-05-21T00:00:00",
          "2020-05-22T00:00:00",
          "2020-05-23T00:00:00",
          "2020-05-24T00:00:00",
          "2020-05-25T00:00:00",
          "2020-05-26T00:00:00",
          "2020-05-27T00:00:00",
          "2020-05-28T00:00:00",
          "2020-05-29T00:00:00",
          "2020-05-30T00:00:00",
          "2020-05-31T00:00:00",
          "2020-06-01T00:00:00",
          "2020-06-02T00:00:00",
          "2020-06-03T00:00:00",
          "2020-06-04T00:00:00",
          "2020-06-05T00:00:00",
          "2020-06-06T00:00:00",
          "2020-06-07T00:00:00",
          "2020-06-08T00:00:00",
          "2020-06-09T00:00:00",
          "2020-06-10T00:00:00",
          "2020-06-11T00:00:00",
          "2020-06-12T00:00:00",
          "2020-06-13T00:00:00"
         ],
         "y": [
          647,
          728,
          728,
          728,
          728,
          728,
          760,
          841,
          961,
          961,
          961,
          991,
          989,
          989,
          992,
          992,
          1211,
          1291,
          1333,
          1333,
          1347,
          1384,
          1415,
          1415,
          1465,
          1515,
          1515,
          1518,
          1518,
          1581,
          1581,
          1629,
          1629,
          1648,
          1650,
          1643,
          1674,
          1681,
          1681,
          1708,
          1708,
          1711,
          1722,
          1728,
          1735,
          1736,
          1736,
          1738,
          1739,
          1739,
          1738,
          1739,
          1739,
          1748,
          1748,
          1748,
          1749,
          1749,
          1747,
          1750,
          1748,
          1748,
          1748,
          1748,
          1748,
          1748,
          1748,
          1748
         ]
        }
       ],
       "layout": {
        "plot_bgcolor": "white",
        "template": {
         "data": {
          "bar": [
           {
            "error_x": {
             "color": "#2a3f5f"
            },
            "error_y": {
             "color": "#2a3f5f"
            },
            "marker": {
             "line": {
              "color": "#E5ECF6",
              "width": 0.5
             }
            },
            "type": "bar"
           }
          ],
          "barpolar": [
           {
            "marker": {
             "line": {
              "color": "#E5ECF6",
              "width": 0.5
             }
            },
            "type": "barpolar"
           }
          ],
          "carpet": [
           {
            "aaxis": {
             "endlinecolor": "#2a3f5f",
             "gridcolor": "white",
             "linecolor": "white",
             "minorgridcolor": "white",
             "startlinecolor": "#2a3f5f"
            },
            "baxis": {
             "endlinecolor": "#2a3f5f",
             "gridcolor": "white",
             "linecolor": "white",
             "minorgridcolor": "white",
             "startlinecolor": "#2a3f5f"
            },
            "type": "carpet"
           }
          ],
          "choropleth": [
           {
            "colorbar": {
             "outlinewidth": 0,
             "ticks": ""
            },
            "type": "choropleth"
           }
          ],
          "contour": [
           {
            "colorbar": {
             "outlinewidth": 0,
             "ticks": ""
            },
            "colorscale": [
             [
              0,
              "#0d0887"
             ],
             [
              0.1111111111111111,
              "#46039f"
             ],
             [
              0.2222222222222222,
              "#7201a8"
             ],
             [
              0.3333333333333333,
              "#9c179e"
             ],
             [
              0.4444444444444444,
              "#bd3786"
             ],
             [
              0.5555555555555556,
              "#d8576b"
             ],
             [
              0.6666666666666666,
              "#ed7953"
             ],
             [
              0.7777777777777778,
              "#fb9f3a"
             ],
             [
              0.8888888888888888,
              "#fdca26"
             ],
             [
              1,
              "#f0f921"
             ]
            ],
            "type": "contour"
           }
          ],
          "contourcarpet": [
           {
            "colorbar": {
             "outlinewidth": 0,
             "ticks": ""
            },
            "type": "contourcarpet"
           }
          ],
          "heatmap": [
           {
            "colorbar": {
             "outlinewidth": 0,
             "ticks": ""
            },
            "colorscale": [
             [
              0,
              "#0d0887"
             ],
             [
              0.1111111111111111,
              "#46039f"
             ],
             [
              0.2222222222222222,
              "#7201a8"
             ],
             [
              0.3333333333333333,
              "#9c179e"
             ],
             [
              0.4444444444444444,
              "#bd3786"
             ],
             [
              0.5555555555555556,
              "#d8576b"
             ],
             [
              0.6666666666666666,
              "#ed7953"
             ],
             [
              0.7777777777777778,
              "#fb9f3a"
             ],
             [
              0.8888888888888888,
              "#fdca26"
             ],
             [
              1,
              "#f0f921"
             ]
            ],
            "type": "heatmap"
           }
          ],
          "heatmapgl": [
           {
            "colorbar": {
             "outlinewidth": 0,
             "ticks": ""
            },
            "colorscale": [
             [
              0,
              "#0d0887"
             ],
             [
              0.1111111111111111,
              "#46039f"
             ],
             [
              0.2222222222222222,
              "#7201a8"
             ],
             [
              0.3333333333333333,
              "#9c179e"
             ],
             [
              0.4444444444444444,
              "#bd3786"
             ],
             [
              0.5555555555555556,
              "#d8576b"
             ],
             [
              0.6666666666666666,
              "#ed7953"
             ],
             [
              0.7777777777777778,
              "#fb9f3a"
             ],
             [
              0.8888888888888888,
              "#fdca26"
             ],
             [
              1,
              "#f0f921"
             ]
            ],
            "type": "heatmapgl"
           }
          ],
          "histogram": [
           {
            "marker": {
             "colorbar": {
              "outlinewidth": 0,
              "ticks": ""
             }
            },
            "type": "histogram"
           }
          ],
          "histogram2d": [
           {
            "colorbar": {
             "outlinewidth": 0,
             "ticks": ""
            },
            "colorscale": [
             [
              0,
              "#0d0887"
             ],
             [
              0.1111111111111111,
              "#46039f"
             ],
             [
              0.2222222222222222,
              "#7201a8"
             ],
             [
              0.3333333333333333,
              "#9c179e"
             ],
             [
              0.4444444444444444,
              "#bd3786"
             ],
             [
              0.5555555555555556,
              "#d8576b"
             ],
             [
              0.6666666666666666,
              "#ed7953"
             ],
             [
              0.7777777777777778,
              "#fb9f3a"
             ],
             [
              0.8888888888888888,
              "#fdca26"
             ],
             [
              1,
              "#f0f921"
             ]
            ],
            "type": "histogram2d"
           }
          ],
          "histogram2dcontour": [
           {
            "colorbar": {
             "outlinewidth": 0,
             "ticks": ""
            },
            "colorscale": [
             [
              0,
              "#0d0887"
             ],
             [
              0.1111111111111111,
              "#46039f"
             ],
             [
              0.2222222222222222,
              "#7201a8"
             ],
             [
              0.3333333333333333,
              "#9c179e"
             ],
             [
              0.4444444444444444,
              "#bd3786"
             ],
             [
              0.5555555555555556,
              "#d8576b"
             ],
             [
              0.6666666666666666,
              "#ed7953"
             ],
             [
              0.7777777777777778,
              "#fb9f3a"
             ],
             [
              0.8888888888888888,
              "#fdca26"
             ],
             [
              1,
              "#f0f921"
             ]
            ],
            "type": "histogram2dcontour"
           }
          ],
          "mesh3d": [
           {
            "colorbar": {
             "outlinewidth": 0,
             "ticks": ""
            },
            "type": "mesh3d"
           }
          ],
          "parcoords": [
           {
            "line": {
             "colorbar": {
              "outlinewidth": 0,
              "ticks": ""
             }
            },
            "type": "parcoords"
           }
          ],
          "pie": [
           {
            "automargin": true,
            "type": "pie"
           }
          ],
          "scatter": [
           {
            "marker": {
             "colorbar": {
              "outlinewidth": 0,
              "ticks": ""
             }
            },
            "type": "scatter"
           }
          ],
          "scatter3d": [
           {
            "line": {
             "colorbar": {
              "outlinewidth": 0,
              "ticks": ""
             }
            },
            "marker": {
             "colorbar": {
              "outlinewidth": 0,
              "ticks": ""
             }
            },
            "type": "scatter3d"
           }
          ],
          "scattercarpet": [
           {
            "marker": {
             "colorbar": {
              "outlinewidth": 0,
              "ticks": ""
             }
            },
            "type": "scattercarpet"
           }
          ],
          "scattergeo": [
           {
            "marker": {
             "colorbar": {
              "outlinewidth": 0,
              "ticks": ""
             }
            },
            "type": "scattergeo"
           }
          ],
          "scattergl": [
           {
            "marker": {
             "colorbar": {
              "outlinewidth": 0,
              "ticks": ""
             }
            },
            "type": "scattergl"
           }
          ],
          "scattermapbox": [
           {
            "marker": {
             "colorbar": {
              "outlinewidth": 0,
              "ticks": ""
             }
            },
            "type": "scattermapbox"
           }
          ],
          "scatterpolar": [
           {
            "marker": {
             "colorbar": {
              "outlinewidth": 0,
              "ticks": ""
             }
            },
            "type": "scatterpolar"
           }
          ],
          "scatterpolargl": [
           {
            "marker": {
             "colorbar": {
              "outlinewidth": 0,
              "ticks": ""
             }
            },
            "type": "scatterpolargl"
           }
          ],
          "scatterternary": [
           {
            "marker": {
             "colorbar": {
              "outlinewidth": 0,
              "ticks": ""
             }
            },
            "type": "scatterternary"
           }
          ],
          "surface": [
           {
            "colorbar": {
             "outlinewidth": 0,
             "ticks": ""
            },
            "colorscale": [
             [
              0,
              "#0d0887"
             ],
             [
              0.1111111111111111,
              "#46039f"
             ],
             [
              0.2222222222222222,
              "#7201a8"
             ],
             [
              0.3333333333333333,
              "#9c179e"
             ],
             [
              0.4444444444444444,
              "#bd3786"
             ],
             [
              0.5555555555555556,
              "#d8576b"
             ],
             [
              0.6666666666666666,
              "#ed7953"
             ],
             [
              0.7777777777777778,
              "#fb9f3a"
             ],
             [
              0.8888888888888888,
              "#fdca26"
             ],
             [
              1,
              "#f0f921"
             ]
            ],
            "type": "surface"
           }
          ],
          "table": [
           {
            "cells": {
             "fill": {
              "color": "#EBF0F8"
             },
             "line": {
              "color": "white"
             }
            },
            "header": {
             "fill": {
              "color": "#C8D4E3"
             },
             "line": {
              "color": "white"
             }
            },
            "type": "table"
           }
          ]
         },
         "layout": {
          "annotationdefaults": {
           "arrowcolor": "#2a3f5f",
           "arrowhead": 0,
           "arrowwidth": 1
          },
          "coloraxis": {
           "colorbar": {
            "outlinewidth": 0,
            "ticks": ""
           }
          },
          "colorscale": {
           "diverging": [
            [
             0,
             "#8e0152"
            ],
            [
             0.1,
             "#c51b7d"
            ],
            [
             0.2,
             "#de77ae"
            ],
            [
             0.3,
             "#f1b6da"
            ],
            [
             0.4,
             "#fde0ef"
            ],
            [
             0.5,
             "#f7f7f7"
            ],
            [
             0.6,
             "#e6f5d0"
            ],
            [
             0.7,
             "#b8e186"
            ],
            [
             0.8,
             "#7fbc41"
            ],
            [
             0.9,
             "#4d9221"
            ],
            [
             1,
             "#276419"
            ]
           ],
           "sequential": [
            [
             0,
             "#0d0887"
            ],
            [
             0.1111111111111111,
             "#46039f"
            ],
            [
             0.2222222222222222,
             "#7201a8"
            ],
            [
             0.3333333333333333,
             "#9c179e"
            ],
            [
             0.4444444444444444,
             "#bd3786"
            ],
            [
             0.5555555555555556,
             "#d8576b"
            ],
            [
             0.6666666666666666,
             "#ed7953"
            ],
            [
             0.7777777777777778,
             "#fb9f3a"
            ],
            [
             0.8888888888888888,
             "#fdca26"
            ],
            [
             1,
             "#f0f921"
            ]
           ],
           "sequentialminus": [
            [
             0,
             "#0d0887"
            ],
            [
             0.1111111111111111,
             "#46039f"
            ],
            [
             0.2222222222222222,
             "#7201a8"
            ],
            [
             0.3333333333333333,
             "#9c179e"
            ],
            [
             0.4444444444444444,
             "#bd3786"
            ],
            [
             0.5555555555555556,
             "#d8576b"
            ],
            [
             0.6666666666666666,
             "#ed7953"
            ],
            [
             0.7777777777777778,
             "#fb9f3a"
            ],
            [
             0.8888888888888888,
             "#fdca26"
            ],
            [
             1,
             "#f0f921"
            ]
           ]
          },
          "colorway": [
           "#636efa",
           "#EF553B",
           "#00cc96",
           "#ab63fa",
           "#FFA15A",
           "#19d3f3",
           "#FF6692",
           "#B6E880",
           "#FF97FF",
           "#FECB52"
          ],
          "font": {
           "color": "#2a3f5f"
          },
          "geo": {
           "bgcolor": "white",
           "lakecolor": "white",
           "landcolor": "#E5ECF6",
           "showlakes": true,
           "showland": true,
           "subunitcolor": "white"
          },
          "hoverlabel": {
           "align": "left"
          },
          "hovermode": "closest",
          "mapbox": {
           "style": "light"
          },
          "paper_bgcolor": "white",
          "plot_bgcolor": "#E5ECF6",
          "polar": {
           "angularaxis": {
            "gridcolor": "white",
            "linecolor": "white",
            "ticks": ""
           },
           "bgcolor": "#E5ECF6",
           "radialaxis": {
            "gridcolor": "white",
            "linecolor": "white",
            "ticks": ""
           }
          },
          "scene": {
           "xaxis": {
            "backgroundcolor": "#E5ECF6",
            "gridcolor": "white",
            "gridwidth": 2,
            "linecolor": "white",
            "showbackground": true,
            "ticks": "",
            "zerolinecolor": "white"
           },
           "yaxis": {
            "backgroundcolor": "#E5ECF6",
            "gridcolor": "white",
            "gridwidth": 2,
            "linecolor": "white",
            "showbackground": true,
            "ticks": "",
            "zerolinecolor": "white"
           },
           "zaxis": {
            "backgroundcolor": "#E5ECF6",
            "gridcolor": "white",
            "gridwidth": 2,
            "linecolor": "white",
            "showbackground": true,
            "ticks": "",
            "zerolinecolor": "white"
           }
          },
          "shapedefaults": {
           "line": {
            "color": "#2a3f5f"
           }
          },
          "ternary": {
           "aaxis": {
            "gridcolor": "white",
            "linecolor": "white",
            "ticks": ""
           },
           "baxis": {
            "gridcolor": "white",
            "linecolor": "white",
            "ticks": ""
           },
           "bgcolor": "#E5ECF6",
           "caxis": {
            "gridcolor": "white",
            "linecolor": "white",
            "ticks": ""
           }
          },
          "title": {
           "x": 0.05
          },
          "xaxis": {
           "automargin": true,
           "gridcolor": "white",
           "linecolor": "white",
           "ticks": "",
           "title": {
            "standoff": 15
           },
           "zerolinecolor": "white",
           "zerolinewidth": 2
          },
          "yaxis": {
           "automargin": true,
           "gridcolor": "white",
           "linecolor": "white",
           "ticks": "",
           "title": {
            "standoff": 15
           },
           "zerolinecolor": "white",
           "zerolinewidth": 2
          }
         }
        },
        "title": {
         "font": {
          "family": "Arial",
          "size": 24
         },
         "text": "NYC Inmates in Custody VS. COVID-19 Cases in Jails"
        },
        "xaxis": {
         "showgrid": false,
         "tickfont": {
          "family": "Arial",
          "size": 14
         },
         "ticks": "inside",
         "title": {
          "text": "Date"
         }
        },
        "yaxis": {
         "gridcolor": "lightgray",
         "tickfont": {
          "family": "Arial",
          "size": 14
         }
        }
       }
      },
      "text/html": [
       "<div>\n",
       "        \n",
       "        \n",
       "            <div id=\"467335b5-86eb-4cbc-bbaf-ca64ad10dcb2\" class=\"plotly-graph-div\" style=\"height:525px; width:100%;\"></div>\n",
       "            <script type=\"text/javascript\">\n",
       "                require([\"plotly\"], function(Plotly) {\n",
       "                    window.PLOTLYENV=window.PLOTLYENV || {};\n",
       "                    \n",
       "                if (document.getElementById(\"467335b5-86eb-4cbc-bbaf-ca64ad10dcb2\")) {\n",
       "                    Plotly.newPlot(\n",
       "                        '467335b5-86eb-4cbc-bbaf-ca64ad10dcb2',\n",
       "                        [{\"line\": {\"color\": \"peru\", \"width\": 3}, \"name\": \"Inmates in Custody\", \"type\": \"scatter\", \"x\": [\"2020-04-01T00:00:00\", \"2020-04-02T00:00:00\", \"2020-04-03T00:00:00\", \"2020-04-04T00:00:00\", \"2020-04-05T00:00:00\", \"2020-04-06T00:00:00\", \"2020-04-07T00:00:00\", \"2020-04-08T00:00:00\", \"2020-04-09T00:00:00\", \"2020-04-10T00:00:00\", \"2020-04-11T00:00:00\", \"2020-04-12T00:00:00\", \"2020-04-13T00:00:00\", \"2020-04-14T00:00:00\", \"2020-04-15T00:00:00\", \"2020-04-16T00:00:00\", \"2020-04-17T00:00:00\", \"2020-04-18T00:00:00\", \"2020-04-19T00:00:00\", \"2020-04-20T00:00:00\", \"2020-04-21T00:00:00\", \"2020-04-22T00:00:00\", \"2020-04-23T00:00:00\", \"2020-04-24T00:00:00\", \"2020-04-25T00:00:00\", \"2020-04-26T00:00:00\", \"2020-04-27T00:00:00\", \"2020-04-28T00:00:00\", \"2020-04-29T00:00:00\", \"2020-04-30T00:00:00\", \"2020-05-01T00:00:00\", \"2020-05-02T00:00:00\", \"2020-05-03T00:00:00\", \"2020-05-04T00:00:00\", \"2020-05-05T00:00:00\", \"2020-05-06T00:00:00\", \"2020-05-07T00:00:00\", \"2020-05-08T00:00:00\", \"2020-05-09T00:00:00\", \"2020-05-10T00:00:00\", \"2020-05-11T00:00:00\", \"2020-05-12T00:00:00\", \"2020-05-13T00:00:00\", \"2020-05-14T00:00:00\", \"2020-05-15T00:00:00\", \"2020-05-16T00:00:00\", \"2020-05-17T00:00:00\", \"2020-05-18T00:00:00\", \"2020-05-19T00:00:00\", \"2020-05-20T00:00:00\", \"2020-05-21T00:00:00\", \"2020-05-22T00:00:00\", \"2020-05-23T00:00:00\", \"2020-05-24T00:00:00\", \"2020-05-25T00:00:00\", \"2020-05-26T00:00:00\", \"2020-05-27T00:00:00\", \"2020-05-28T00:00:00\", \"2020-05-29T00:00:00\", \"2020-05-30T00:00:00\", \"2020-05-31T00:00:00\", \"2020-06-01T00:00:00\", \"2020-06-02T00:00:00\", \"2020-06-03T00:00:00\", \"2020-06-04T00:00:00\", \"2020-06-05T00:00:00\", \"2020-06-06T00:00:00\", \"2020-06-07T00:00:00\", \"2020-06-08T00:00:00\", \"2020-06-09T00:00:00\", \"2020-06-10T00:00:00\", \"2020-06-11T00:00:00\", \"2020-06-12T00:00:00\", \"2020-06-13T00:00:00\"], \"y\": [10, 13, 22, 23, 28, 33, 37, 46, 51, 56, 64, 71, 71, 77, 85, 94, 103, 111, 115, 119, 127, 136, 156, 169, 176, 185, 192, 204, 221, 237, 269, 282, 290, 298, 319, 340, 351, 369, 378, 383, 395, 421, 445, 470, 487, 511, 522, 541, 562, 580, 610, 634, 649, 657, 665, 674, 691, 716, 731, 745, 761, 772, 782, 796, 821, 844, 852, 865, 872, 885, 907, 928, 942, 959]}, {\"line\": {\"color\": \"navy\", \"dash\": \"dashdot\", \"width\": 3}, \"name\": \"Confirmed Cases\", \"type\": \"scatter\", \"x\": [\"2020-04-07T00:00:00\", \"2020-04-08T00:00:00\", \"2020-04-09T00:00:00\", \"2020-04-10T00:00:00\", \"2020-04-11T00:00:00\", \"2020-04-12T00:00:00\", \"2020-04-13T00:00:00\", \"2020-04-14T00:00:00\", \"2020-04-15T00:00:00\", \"2020-04-16T00:00:00\", \"2020-04-17T00:00:00\", \"2020-04-18T00:00:00\", \"2020-04-19T00:00:00\", \"2020-04-20T00:00:00\", \"2020-04-21T00:00:00\", \"2020-04-22T00:00:00\", \"2020-04-23T00:00:00\", \"2020-04-24T00:00:00\", \"2020-04-25T00:00:00\", \"2020-04-26T00:00:00\", \"2020-04-27T00:00:00\", \"2020-04-28T00:00:00\", \"2020-04-29T00:00:00\", \"2020-04-30T00:00:00\", \"2020-05-01T00:00:00\", \"2020-05-02T00:00:00\", \"2020-05-03T00:00:00\", \"2020-05-04T00:00:00\", \"2020-05-05T00:00:00\", \"2020-05-06T00:00:00\", \"2020-05-07T00:00:00\", \"2020-05-08T00:00:00\", \"2020-05-09T00:00:00\", \"2020-05-10T00:00:00\", \"2020-05-11T00:00:00\", \"2020-05-12T00:00:00\", \"2020-05-13T00:00:00\", \"2020-05-14T00:00:00\", \"2020-05-15T00:00:00\", \"2020-05-16T00:00:00\", \"2020-05-17T00:00:00\", \"2020-05-18T00:00:00\", \"2020-05-19T00:00:00\", \"2020-05-20T00:00:00\", \"2020-05-21T00:00:00\", \"2020-05-22T00:00:00\", \"2020-05-23T00:00:00\", \"2020-05-24T00:00:00\", \"2020-05-25T00:00:00\", \"2020-05-26T00:00:00\", \"2020-05-27T00:00:00\", \"2020-05-28T00:00:00\", \"2020-05-29T00:00:00\", \"2020-05-30T00:00:00\", \"2020-05-31T00:00:00\", \"2020-06-01T00:00:00\", \"2020-06-02T00:00:00\", \"2020-06-03T00:00:00\", \"2020-06-04T00:00:00\", \"2020-06-05T00:00:00\", \"2020-06-06T00:00:00\", \"2020-06-07T00:00:00\", \"2020-06-08T00:00:00\", \"2020-06-09T00:00:00\", \"2020-06-10T00:00:00\", \"2020-06-11T00:00:00\", \"2020-06-12T00:00:00\", \"2020-06-13T00:00:00\"], \"y\": [647, 728, 728, 728, 728, 728, 760, 841, 961, 961, 961, 991, 989, 989, 992, 992, 1211, 1291, 1333, 1333, 1347, 1384, 1415, 1415, 1465, 1515, 1515, 1518, 1518, 1581, 1581, 1629, 1629, 1648, 1650, 1643, 1674, 1681, 1681, 1708, 1708, 1711, 1722, 1728, 1735, 1736, 1736, 1738, 1739, 1739, 1738, 1739, 1739, 1748, 1748, 1748, 1749, 1749, 1747, 1750, 1748, 1748, 1748, 1748, 1748, 1748, 1748, 1748]}],\n",
       "                        {\"plot_bgcolor\": \"white\", \"template\": {\"data\": {\"bar\": [{\"error_x\": {\"color\": \"#2a3f5f\"}, \"error_y\": {\"color\": \"#2a3f5f\"}, \"marker\": {\"line\": {\"color\": \"#E5ECF6\", \"width\": 0.5}}, \"type\": \"bar\"}], \"barpolar\": [{\"marker\": {\"line\": {\"color\": \"#E5ECF6\", \"width\": 0.5}}, \"type\": \"barpolar\"}], \"carpet\": [{\"aaxis\": {\"endlinecolor\": \"#2a3f5f\", \"gridcolor\": \"white\", \"linecolor\": \"white\", \"minorgridcolor\": \"white\", \"startlinecolor\": \"#2a3f5f\"}, \"baxis\": {\"endlinecolor\": \"#2a3f5f\", \"gridcolor\": \"white\", \"linecolor\": \"white\", \"minorgridcolor\": \"white\", \"startlinecolor\": \"#2a3f5f\"}, \"type\": \"carpet\"}], \"choropleth\": [{\"colorbar\": {\"outlinewidth\": 0, \"ticks\": \"\"}, \"type\": \"choropleth\"}], \"contour\": [{\"colorbar\": {\"outlinewidth\": 0, \"ticks\": \"\"}, \"colorscale\": [[0.0, \"#0d0887\"], [0.1111111111111111, \"#46039f\"], [0.2222222222222222, \"#7201a8\"], [0.3333333333333333, \"#9c179e\"], [0.4444444444444444, \"#bd3786\"], [0.5555555555555556, \"#d8576b\"], [0.6666666666666666, \"#ed7953\"], [0.7777777777777778, \"#fb9f3a\"], [0.8888888888888888, \"#fdca26\"], [1.0, \"#f0f921\"]], \"type\": \"contour\"}], \"contourcarpet\": [{\"colorbar\": {\"outlinewidth\": 0, \"ticks\": \"\"}, \"type\": \"contourcarpet\"}], \"heatmap\": [{\"colorbar\": {\"outlinewidth\": 0, \"ticks\": \"\"}, \"colorscale\": [[0.0, \"#0d0887\"], [0.1111111111111111, \"#46039f\"], [0.2222222222222222, \"#7201a8\"], [0.3333333333333333, \"#9c179e\"], [0.4444444444444444, \"#bd3786\"], [0.5555555555555556, \"#d8576b\"], [0.6666666666666666, \"#ed7953\"], [0.7777777777777778, \"#fb9f3a\"], [0.8888888888888888, \"#fdca26\"], [1.0, \"#f0f921\"]], \"type\": \"heatmap\"}], \"heatmapgl\": [{\"colorbar\": {\"outlinewidth\": 0, \"ticks\": \"\"}, \"colorscale\": [[0.0, \"#0d0887\"], [0.1111111111111111, \"#46039f\"], [0.2222222222222222, \"#7201a8\"], [0.3333333333333333, \"#9c179e\"], [0.4444444444444444, \"#bd3786\"], [0.5555555555555556, \"#d8576b\"], [0.6666666666666666, \"#ed7953\"], [0.7777777777777778, \"#fb9f3a\"], [0.8888888888888888, \"#fdca26\"], [1.0, \"#f0f921\"]], \"type\": \"heatmapgl\"}], \"histogram\": [{\"marker\": {\"colorbar\": {\"outlinewidth\": 0, \"ticks\": \"\"}}, \"type\": \"histogram\"}], \"histogram2d\": [{\"colorbar\": {\"outlinewidth\": 0, \"ticks\": \"\"}, \"colorscale\": [[0.0, \"#0d0887\"], [0.1111111111111111, \"#46039f\"], [0.2222222222222222, \"#7201a8\"], [0.3333333333333333, \"#9c179e\"], [0.4444444444444444, \"#bd3786\"], [0.5555555555555556, \"#d8576b\"], [0.6666666666666666, \"#ed7953\"], [0.7777777777777778, \"#fb9f3a\"], [0.8888888888888888, \"#fdca26\"], [1.0, \"#f0f921\"]], \"type\": \"histogram2d\"}], \"histogram2dcontour\": [{\"colorbar\": {\"outlinewidth\": 0, \"ticks\": \"\"}, \"colorscale\": [[0.0, \"#0d0887\"], [0.1111111111111111, \"#46039f\"], [0.2222222222222222, \"#7201a8\"], [0.3333333333333333, \"#9c179e\"], [0.4444444444444444, \"#bd3786\"], [0.5555555555555556, \"#d8576b\"], [0.6666666666666666, \"#ed7953\"], [0.7777777777777778, \"#fb9f3a\"], [0.8888888888888888, \"#fdca26\"], [1.0, \"#f0f921\"]], \"type\": \"histogram2dcontour\"}], \"mesh3d\": [{\"colorbar\": {\"outlinewidth\": 0, \"ticks\": \"\"}, \"type\": \"mesh3d\"}], \"parcoords\": [{\"line\": {\"colorbar\": {\"outlinewidth\": 0, \"ticks\": \"\"}}, \"type\": \"parcoords\"}], \"pie\": [{\"automargin\": true, \"type\": \"pie\"}], \"scatter\": [{\"marker\": {\"colorbar\": {\"outlinewidth\": 0, \"ticks\": \"\"}}, \"type\": \"scatter\"}], \"scatter3d\": [{\"line\": {\"colorbar\": {\"outlinewidth\": 0, \"ticks\": \"\"}}, \"marker\": {\"colorbar\": {\"outlinewidth\": 0, \"ticks\": \"\"}}, \"type\": \"scatter3d\"}], \"scattercarpet\": [{\"marker\": {\"colorbar\": {\"outlinewidth\": 0, \"ticks\": \"\"}}, \"type\": \"scattercarpet\"}], \"scattergeo\": [{\"marker\": {\"colorbar\": {\"outlinewidth\": 0, \"ticks\": \"\"}}, \"type\": \"scattergeo\"}], \"scattergl\": [{\"marker\": {\"colorbar\": {\"outlinewidth\": 0, \"ticks\": \"\"}}, \"type\": \"scattergl\"}], \"scattermapbox\": [{\"marker\": {\"colorbar\": {\"outlinewidth\": 0, \"ticks\": \"\"}}, \"type\": \"scattermapbox\"}], \"scatterpolar\": [{\"marker\": {\"colorbar\": {\"outlinewidth\": 0, \"ticks\": \"\"}}, \"type\": \"scatterpolar\"}], \"scatterpolargl\": [{\"marker\": {\"colorbar\": {\"outlinewidth\": 0, \"ticks\": \"\"}}, \"type\": \"scatterpolargl\"}], \"scatterternary\": [{\"marker\": {\"colorbar\": {\"outlinewidth\": 0, \"ticks\": \"\"}}, \"type\": \"scatterternary\"}], \"surface\": [{\"colorbar\": {\"outlinewidth\": 0, \"ticks\": \"\"}, \"colorscale\": [[0.0, \"#0d0887\"], [0.1111111111111111, \"#46039f\"], [0.2222222222222222, \"#7201a8\"], [0.3333333333333333, \"#9c179e\"], [0.4444444444444444, \"#bd3786\"], [0.5555555555555556, \"#d8576b\"], [0.6666666666666666, \"#ed7953\"], [0.7777777777777778, \"#fb9f3a\"], [0.8888888888888888, \"#fdca26\"], [1.0, \"#f0f921\"]], \"type\": \"surface\"}], \"table\": [{\"cells\": {\"fill\": {\"color\": \"#EBF0F8\"}, \"line\": {\"color\": \"white\"}}, \"header\": {\"fill\": {\"color\": \"#C8D4E3\"}, \"line\": {\"color\": \"white\"}}, \"type\": \"table\"}]}, \"layout\": {\"annotationdefaults\": {\"arrowcolor\": \"#2a3f5f\", \"arrowhead\": 0, \"arrowwidth\": 1}, \"coloraxis\": {\"colorbar\": {\"outlinewidth\": 0, \"ticks\": \"\"}}, \"colorscale\": {\"diverging\": [[0, \"#8e0152\"], [0.1, \"#c51b7d\"], [0.2, \"#de77ae\"], [0.3, \"#f1b6da\"], [0.4, \"#fde0ef\"], [0.5, \"#f7f7f7\"], [0.6, \"#e6f5d0\"], [0.7, \"#b8e186\"], [0.8, \"#7fbc41\"], [0.9, \"#4d9221\"], [1, \"#276419\"]], \"sequential\": [[0.0, \"#0d0887\"], [0.1111111111111111, \"#46039f\"], [0.2222222222222222, \"#7201a8\"], [0.3333333333333333, \"#9c179e\"], [0.4444444444444444, \"#bd3786\"], [0.5555555555555556, \"#d8576b\"], [0.6666666666666666, \"#ed7953\"], [0.7777777777777778, \"#fb9f3a\"], [0.8888888888888888, \"#fdca26\"], [1.0, \"#f0f921\"]], \"sequentialminus\": [[0.0, \"#0d0887\"], [0.1111111111111111, \"#46039f\"], [0.2222222222222222, \"#7201a8\"], [0.3333333333333333, \"#9c179e\"], [0.4444444444444444, \"#bd3786\"], [0.5555555555555556, \"#d8576b\"], [0.6666666666666666, \"#ed7953\"], [0.7777777777777778, \"#fb9f3a\"], [0.8888888888888888, \"#fdca26\"], [1.0, \"#f0f921\"]]}, \"colorway\": [\"#636efa\", \"#EF553B\", \"#00cc96\", \"#ab63fa\", \"#FFA15A\", \"#19d3f3\", \"#FF6692\", \"#B6E880\", \"#FF97FF\", \"#FECB52\"], \"font\": {\"color\": \"#2a3f5f\"}, \"geo\": {\"bgcolor\": \"white\", \"lakecolor\": \"white\", \"landcolor\": \"#E5ECF6\", \"showlakes\": true, \"showland\": true, \"subunitcolor\": \"white\"}, \"hoverlabel\": {\"align\": \"left\"}, \"hovermode\": \"closest\", \"mapbox\": {\"style\": \"light\"}, \"paper_bgcolor\": \"white\", \"plot_bgcolor\": \"#E5ECF6\", \"polar\": {\"angularaxis\": {\"gridcolor\": \"white\", \"linecolor\": \"white\", \"ticks\": \"\"}, \"bgcolor\": \"#E5ECF6\", \"radialaxis\": {\"gridcolor\": \"white\", \"linecolor\": \"white\", \"ticks\": \"\"}}, \"scene\": {\"xaxis\": {\"backgroundcolor\": \"#E5ECF6\", \"gridcolor\": \"white\", \"gridwidth\": 2, \"linecolor\": \"white\", \"showbackground\": true, \"ticks\": \"\", \"zerolinecolor\": \"white\"}, \"yaxis\": {\"backgroundcolor\": \"#E5ECF6\", \"gridcolor\": \"white\", \"gridwidth\": 2, \"linecolor\": \"white\", \"showbackground\": true, \"ticks\": \"\", \"zerolinecolor\": \"white\"}, \"zaxis\": {\"backgroundcolor\": \"#E5ECF6\", \"gridcolor\": \"white\", \"gridwidth\": 2, \"linecolor\": \"white\", \"showbackground\": true, \"ticks\": \"\", \"zerolinecolor\": \"white\"}}, \"shapedefaults\": {\"line\": {\"color\": \"#2a3f5f\"}}, \"ternary\": {\"aaxis\": {\"gridcolor\": \"white\", \"linecolor\": \"white\", \"ticks\": \"\"}, \"baxis\": {\"gridcolor\": \"white\", \"linecolor\": \"white\", \"ticks\": \"\"}, \"bgcolor\": \"#E5ECF6\", \"caxis\": {\"gridcolor\": \"white\", \"linecolor\": \"white\", \"ticks\": \"\"}}, \"title\": {\"x\": 0.05}, \"xaxis\": {\"automargin\": true, \"gridcolor\": \"white\", \"linecolor\": \"white\", \"ticks\": \"\", \"title\": {\"standoff\": 15}, \"zerolinecolor\": \"white\", \"zerolinewidth\": 2}, \"yaxis\": {\"automargin\": true, \"gridcolor\": \"white\", \"linecolor\": \"white\", \"ticks\": \"\", \"title\": {\"standoff\": 15}, \"zerolinecolor\": \"white\", \"zerolinewidth\": 2}}}, \"title\": {\"font\": {\"family\": \"Arial\", \"size\": 24}, \"text\": \"NYC Inmates in Custody VS. COVID-19 Cases in Jails\"}, \"xaxis\": {\"showgrid\": false, \"tickfont\": {\"family\": \"Arial\", \"size\": 14}, \"ticks\": \"inside\", \"title\": {\"text\": \"Date\"}}, \"yaxis\": {\"gridcolor\": \"lightgray\", \"tickfont\": {\"family\": \"Arial\", \"size\": 14}}},\n",
       "                        {\"responsive\": true}\n",
       "                    ).then(function(){\n",
       "                            \n",
       "var gd = document.getElementById('467335b5-86eb-4cbc-bbaf-ca64ad10dcb2');\n",
       "var x = new MutationObserver(function (mutations, observer) {{\n",
       "        var display = window.getComputedStyle(gd).display;\n",
       "        if (!display || display === 'none') {{\n",
       "            console.log([gd, 'removed!']);\n",
       "            Plotly.purge(gd);\n",
       "            observer.disconnect();\n",
       "        }}\n",
       "}});\n",
       "\n",
       "// Listen for the removal of the full notebook cells\n",
       "var notebookContainer = gd.closest('#notebook-container');\n",
       "if (notebookContainer) {{\n",
       "    x.observe(notebookContainer, {childList: true});\n",
       "}}\n",
       "\n",
       "// Listen for the clearing of the current output cell\n",
       "var outputEl = gd.closest('.output');\n",
       "if (outputEl) {{\n",
       "    x.observe(outputEl, {childList: true});\n",
       "}}\n",
       "\n",
       "                        })\n",
       "                };\n",
       "                });\n",
       "            </script>\n",
       "        </div>"
      ]
     },
     "metadata": {},
     "output_type": "display_data"
    }
   ],
   "source": [
    "fig = go.Figure(data=go.Scatter(x=inmates_sum.index,y=inmates_sum['inmateid'],name='Inmates in Custody',\n",
    "                                line={'color':'peru',\n",
    "                                      'width':3}))\n",
    "fig.add_trace(go.Scatter(\n",
    "        x=covid19_sum.index,\n",
    "        y=covid19_sum['total.confirmed'],\n",
    "        name='Confirmed Cases',\n",
    "        line={'color':'navy',\n",
    "              'width': 3,\n",
    "              'dash':'dashdot'}))\n",
    "\n",
    "fig.update_layout(title='NYC Inmates in Custody VS. COVID-19 Cases in Jails',\n",
    "                   titlefont={'family':'Arial','size':24},\n",
    "                   xaxis={'showgrid':False,'tickfont':{'family':'Arial','size':14},'ticks':'inside'},\n",
    "                   xaxis_title='Date',\n",
    "                   yaxis={'gridcolor':'lightgray','tickfont':{'family':'Arial','size':14}},\n",
    "                   plot_bgcolor='white')\n",
    "fig.show()"
   ]
  },
  {
   "cell_type": "code",
   "execution_count": null,
   "metadata": {},
   "outputs": [],
   "source": []
  }
 ],
 "metadata": {
  "kernelspec": {
   "display_name": "Python 3",
   "language": "python",
   "name": "python3"
  },
  "language_info": {
   "codemirror_mode": {
    "name": "ipython",
    "version": 3
   },
   "file_extension": ".py",
   "mimetype": "text/x-python",
   "name": "python",
   "nbconvert_exporter": "python",
   "pygments_lexer": "ipython3",
   "version": "3.7.4"
  }
 },
 "nbformat": 4,
 "nbformat_minor": 2
}
