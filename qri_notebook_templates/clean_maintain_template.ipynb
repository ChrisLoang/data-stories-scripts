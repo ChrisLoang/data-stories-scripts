{
 "cells": [
  {
   "cell_type": "markdown",
   "metadata": {},
   "source": [
    "# Qri Clean/Maintain Notebook\n",
    "\n",
    "This notebook is structured to improve dataset maintenance workflow"
   ]
  },
  {
   "cell_type": "code",
   "execution_count": 1,
   "metadata": {},
   "outputs": [],
   "source": [
    "import pandas as pd\n",
    "from plotly.subplots import make_subplots\n",
    "import plotly.graph_objects as go\n",
    "import subprocess\n",
    "from io import StringIO\n",
    "import os\n",
    "from datetime import timedelta,date"
   ]
  },
  {
   "cell_type": "markdown",
   "metadata": {},
   "source": [
    "## Defining the Qri class object\n",
    "This object contains functions for basic Qri tasks such as loading the dataset body in to a Pandas datafram, initializing a new dataset, and saving & publishing a dataset."
   ]
  },
  {
   "cell_type": "code",
   "execution_count": 2,
   "metadata": {},
   "outputs": [],
   "source": [
    "class Qri():\n",
    "    ## initialize the working dataset\n",
    "    def __init__(self, dataset):\n",
    "        self.dataset = dataset\n",
    "        \n",
    "    ## to get the CSV Body of a dataset\n",
    "    def get_csv(self):\n",
    "        cmd = f'qri get body {self.dataset}'\n",
    "        csv = StringIO(subprocess.check_output(cmd, shell=True).decode(\"utf-8\"))\n",
    "        return pd.read_csv(csv)\n",
    "    \n",
    "    ## to get the JSON Body of a dataset\n",
    "    def get_json(self):\n",
    "        cmd = f'qri get body {self.dataset}'\n",
    "        json = StringIO(subprocess.check_output(cmd, shell=True).decode(\"utf-8\"))\n",
    "        return pd.read_json(json)\n",
    "    \n",
    "    ## save the body of a dataset passing the filename and the working dir (if different from current)\n",
    "    def save_body(self, file, wdir=os.getcwd()):\n",
    "        os.chdir(wdir)\n",
    "        return f\"qri save --body {file} {self.dataset}\";\n",
    "    \n",
    "    ## publish dataset\n",
    "    def publish(self, wdir=os.getcwd()):\n",
    "        os.chdir(wdir)\n",
    "        return f\"qri publish {self.dataset}\""
   ]
  },
  {
   "cell_type": "markdown",
   "metadata": {},
   "source": [
    "### Note:\n",
    "When using the save or publish functions, the returned string needs to be placed in curly brackets preceded by an exclamation point. This is how Jupyter Notebook runs terminal commands.\n",
    "\n",
    "#### Example:"
   ]
  },
  {
   "cell_type": "code",
   "execution_count": null,
   "metadata": {},
   "outputs": [],
   "source": [
    "# !{Qri('dataset_name').publish()}"
   ]
  },
  {
   "cell_type": "markdown",
   "metadata": {},
   "source": [
    "### Loading the data"
   ]
  },
  {
   "cell_type": "markdown",
   "metadata": {},
   "source": [
    "This dataset consists of aggregated csv files. The function below reads the csv into a dataframe and stores in an array. The array is then concantenated and returned."
   ]
  },
  {
   "cell_type": "code",
   "execution_count": 3,
   "metadata": {},
   "outputs": [],
   "source": [
    "def read_and_concat(month):\n",
    "    dfs = []\n",
    "    for day in month:\n",
    "        dfs.append(pd.read_csv(f'/home/xristos/datasets/COVID-19/csse_covid_19_data/csse_covid_19_daily_reports/{day}.csv'))\n",
    "    return pd.concat(dfs,ignore_index=True)"
   ]
  },
  {
   "cell_type": "code",
   "execution_count": 6,
   "metadata": {},
   "outputs": [],
   "source": [
    "## creating a list of date ranges for concat function\n",
    "dates = [date(2020,7,6) - timedelta(x) for x in range(7)]\n",
    "dates = [x.strftime(\"%m-%d-%Y\") for x in dates]\n",
    "dates.reverse()"
   ]
  },
  {
   "cell_type": "code",
   "execution_count": 9,
   "metadata": {},
   "outputs": [
    {
     "data": {
      "text/html": [
       "<div>\n",
       "<style scoped>\n",
       "    .dataframe tbody tr th:only-of-type {\n",
       "        vertical-align: middle;\n",
       "    }\n",
       "\n",
       "    .dataframe tbody tr th {\n",
       "        vertical-align: top;\n",
       "    }\n",
       "\n",
       "    .dataframe thead th {\n",
       "        text-align: right;\n",
       "    }\n",
       "</style>\n",
       "<table border=\"1\" class=\"dataframe\">\n",
       "  <thead>\n",
       "    <tr style=\"text-align: right;\">\n",
       "      <th></th>\n",
       "      <th>FIPS</th>\n",
       "      <th>Admin2</th>\n",
       "      <th>Province_State</th>\n",
       "      <th>Country_Region</th>\n",
       "      <th>Last_Update</th>\n",
       "      <th>Lat</th>\n",
       "      <th>Long_</th>\n",
       "      <th>Confirmed</th>\n",
       "      <th>Deaths</th>\n",
       "      <th>Recovered</th>\n",
       "      <th>Active</th>\n",
       "      <th>Combined_Key</th>\n",
       "      <th>Incidence_Rate</th>\n",
       "      <th>Case-Fatality_Ratio</th>\n",
       "    </tr>\n",
       "  </thead>\n",
       "  <tbody>\n",
       "    <tr>\n",
       "      <td>26559</td>\n",
       "      <td>NaN</td>\n",
       "      <td>NaN</td>\n",
       "      <td>NaN</td>\n",
       "      <td>Yemen</td>\n",
       "      <td>2020-07-07 04:34:00</td>\n",
       "      <td>15.552727</td>\n",
       "      <td>48.516388</td>\n",
       "      <td>1284</td>\n",
       "      <td>345</td>\n",
       "      <td>575</td>\n",
       "      <td>364.0</td>\n",
       "      <td>Yemen</td>\n",
       "      <td>4.304973</td>\n",
       "      <td>26.869159</td>\n",
       "    </tr>\n",
       "    <tr>\n",
       "      <td>26560</td>\n",
       "      <td>NaN</td>\n",
       "      <td>NaN</td>\n",
       "      <td>NaN</td>\n",
       "      <td>Zambia</td>\n",
       "      <td>2020-07-07 04:34:00</td>\n",
       "      <td>-13.133897</td>\n",
       "      <td>27.849332</td>\n",
       "      <td>1632</td>\n",
       "      <td>30</td>\n",
       "      <td>1348</td>\n",
       "      <td>254.0</td>\n",
       "      <td>Zambia</td>\n",
       "      <td>8.877306</td>\n",
       "      <td>1.838235</td>\n",
       "    </tr>\n",
       "    <tr>\n",
       "      <td>26561</td>\n",
       "      <td>NaN</td>\n",
       "      <td>NaN</td>\n",
       "      <td>NaN</td>\n",
       "      <td>Zimbabwe</td>\n",
       "      <td>2020-07-07 04:34:00</td>\n",
       "      <td>-19.015438</td>\n",
       "      <td>29.154857</td>\n",
       "      <td>734</td>\n",
       "      <td>9</td>\n",
       "      <td>197</td>\n",
       "      <td>528.0</td>\n",
       "      <td>Zimbabwe</td>\n",
       "      <td>4.938462</td>\n",
       "      <td>1.226158</td>\n",
       "    </tr>\n",
       "    <tr>\n",
       "      <td>26562</td>\n",
       "      <td>41069.0</td>\n",
       "      <td>Wheeler</td>\n",
       "      <td>Oregon</td>\n",
       "      <td>US</td>\n",
       "      <td>2020-07-06 19:33:59</td>\n",
       "      <td>44.726982</td>\n",
       "      <td>-120.028143</td>\n",
       "      <td>0</td>\n",
       "      <td>0</td>\n",
       "      <td>0</td>\n",
       "      <td>0.0</td>\n",
       "      <td>Wheeler, Oregon, US</td>\n",
       "      <td>0.000000</td>\n",
       "      <td>NaN</td>\n",
       "    </tr>\n",
       "    <tr>\n",
       "      <td>26563</td>\n",
       "      <td>NaN</td>\n",
       "      <td>NaN</td>\n",
       "      <td>Unknown</td>\n",
       "      <td>Chile</td>\n",
       "      <td>2020-07-03 15:33:50</td>\n",
       "      <td>NaN</td>\n",
       "      <td>NaN</td>\n",
       "      <td>0</td>\n",
       "      <td>0</td>\n",
       "      <td>109</td>\n",
       "      <td>-109.0</td>\n",
       "      <td>Unknown, Chile</td>\n",
       "      <td>NaN</td>\n",
       "      <td>NaN</td>\n",
       "    </tr>\n",
       "  </tbody>\n",
       "</table>\n",
       "</div>"
      ],
      "text/plain": [
       "          FIPS   Admin2 Province_State Country_Region          Last_Update  \\\n",
       "26559      NaN      NaN            NaN          Yemen  2020-07-07 04:34:00   \n",
       "26560      NaN      NaN            NaN         Zambia  2020-07-07 04:34:00   \n",
       "26561      NaN      NaN            NaN       Zimbabwe  2020-07-07 04:34:00   \n",
       "26562  41069.0  Wheeler         Oregon             US  2020-07-06 19:33:59   \n",
       "26563      NaN      NaN        Unknown          Chile  2020-07-03 15:33:50   \n",
       "\n",
       "             Lat       Long_  Confirmed  Deaths  Recovered  Active  \\\n",
       "26559  15.552727   48.516388       1284     345        575   364.0   \n",
       "26560 -13.133897   27.849332       1632      30       1348   254.0   \n",
       "26561 -19.015438   29.154857        734       9        197   528.0   \n",
       "26562  44.726982 -120.028143          0       0          0     0.0   \n",
       "26563        NaN         NaN          0       0        109  -109.0   \n",
       "\n",
       "              Combined_Key  Incidence_Rate  Case-Fatality_Ratio  \n",
       "26559                Yemen        4.304973            26.869159  \n",
       "26560               Zambia        8.877306             1.838235  \n",
       "26561             Zimbabwe        4.938462             1.226158  \n",
       "26562  Wheeler, Oregon, US        0.000000                  NaN  \n",
       "26563       Unknown, Chile             NaN                  NaN  "
      ]
     },
     "execution_count": 9,
     "metadata": {},
     "output_type": "execute_result"
    }
   ],
   "source": [
    "df = read_and_concat(dates)\n",
    "df.tail() ## checking the tail of dataframe to confirm the latest date"
   ]
  },
  {
   "cell_type": "markdown",
   "metadata": {},
   "source": [
    "### Creating CSV file from DataFrame"
   ]
  },
  {
   "cell_type": "code",
   "execution_count": 10,
   "metadata": {},
   "outputs": [],
   "source": [
    "df.to_csv('~/datasets/covid-jh/july/july_daily_covid19_jh.csv',\n",
    "               index=False,\n",
    "               header=list(df.columns))"
   ]
  },
  {
   "cell_type": "markdown",
   "metadata": {},
   "source": [
    "### Save and Publish with Qri"
   ]
  },
  {
   "cell_type": "code",
   "execution_count": 12,
   "metadata": {},
   "outputs": [],
   "source": [
    "## initialize the name of the dataset in the Qri object\n",
    "ds = Qri('me/july_daily_covid19_jh')\n",
    "## create save and publish strings for terminal operations\n",
    "save = ds.save_body(file='july_daily_covid19_jh.csv',wdir='/home/xristos/datasets/covid-jh/july/')\n",
    "publish = ds.publish(wdir='/home/xristos/datasets/covid-jh/july/')"
   ]
  },
  {
   "cell_type": "code",
   "execution_count": 13,
   "metadata": {
    "scrolled": true
   },
   "outputs": [
    {
     "name": "stdout",
     "output_type": "stream",
     "text": [
      "\u001b[37m⠋\u001b[0\u001b[K\u001b[K\u001b[37m⠙\u001b[0\u001b[K\u001b[K\u001b[37m⠚\u001b[0\u001b[K\u001b[K\u001b[37m⠒\u001b[0\u001b[K\u001b[K\u001b[37m⠂\u001b[0\u001b[K\u001b[K\u001b[37m⠂\u001b[0\u001b[K\u001b[K\u001b[37m⠒\u001b[0\u001b[K\u001b[K\u001b[37m⠲\u001b[0\u001b[K\u001b[K\u001b[37m⠴\u001b[0\u001b[K\u001b[K\u001b[37m⠦\u001b[0\u001b[K\u001b[K\u001b[37m⠖\u001b[0\u001b[K\u001b[K\u001b[37m⠒\u001b[0\u001b[K\u001b[K\u001b[37m⠐\u001b[0\u001b[K\u001b[K\u001b[37m⠐\u001b[0\u001b[K\u001b[K\u001b[37m⠒\u001b[0\u001b[K\u001b[K\u001b[32mdataset saved: xristosk/july_daily_covid19_jh@/ipfs/QmfQyMBpKXnpXFV2qj5CxqtmVtDNDBHvFjUNogdcsd83VQ\u001b[0m\n"
     ]
    }
   ],
   "source": [
    "## Suggestion: hide output when saving larger datasets by ending the line with a semicolon (;)\n",
    "!{save}"
   ]
  },
  {
   "cell_type": "code",
   "execution_count": 14,
   "metadata": {},
   "outputs": [
    {
     "name": "stdout",
     "output_type": "stream",
     "text": [
      "0/21 blocks transferred\n",
      "1/21 blocks transferred\n",
      "2/21 blocks transferred\n",
      "3/21 blocks transferred\n",
      "4/21 blocks transferred\n",
      "5/21 blocks transferred\n",
      "6/21 blocks transferred\n",
      "7/21 blocks transferred\n",
      "8/21 blocks transferred\n",
      "9/21 blocks transferred\n",
      "10/21 blocks transferred\n",
      "11/21 blocks transferred\n",
      "12/21 blocks transferred\n",
      "13/21 blocks transferred\n",
      "14/21 blocks transferred\n",
      "15/21 blocks transferred\n",
      "16/21 blocks transferred\n",
      "17/21 blocks transferred\n",
      "18/21 blocks transferred\n",
      "19/21 blocks transferred\n",
      "20/21 blocks transferred\n",
      "21/21 blocks transferred\n",
      "done!\n",
      "published dataset xristosk/july_daily_covid19_jh@QmRTirNhEPZVidxLZkjVFPMzM4M3gxddcTA1sBkdasGtw3/ipfs/QmfQyMBpKXnpXFV2qj5CxqtmVtDNDBHvFjUNogdcsd83VQ\n"
     ]
    }
   ],
   "source": [
    "!{publish}"
   ]
  },
  {
   "cell_type": "code",
   "execution_count": null,
   "metadata": {},
   "outputs": [],
   "source": []
  }
 ],
 "metadata": {
  "kernelspec": {
   "display_name": "Python 3",
   "language": "python",
   "name": "python3"
  },
  "language_info": {
   "codemirror_mode": {
    "name": "ipython",
    "version": 3
   },
   "file_extension": ".py",
   "mimetype": "text/x-python",
   "name": "python",
   "nbconvert_exporter": "python",
   "pygments_lexer": "ipython3",
   "version": "3.7.4"
  }
 },
 "nbformat": 4,
 "nbformat_minor": 2
}
